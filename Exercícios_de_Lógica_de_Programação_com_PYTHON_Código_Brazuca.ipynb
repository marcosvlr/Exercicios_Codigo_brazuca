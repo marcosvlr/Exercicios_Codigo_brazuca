{
  "nbformat": 4,
  "nbformat_minor": 0,
  "metadata": {
    "colab": {
      "provenance": [],
      "authorship_tag": "ABX9TyM0lsjbd6URUf7EpPIjdDy5",
      "include_colab_link": true
    },
    "kernelspec": {
      "name": "python3",
      "display_name": "Python 3"
    },
    "language_info": {
      "name": "python"
    }
  },
  "cells": [
    {
      "cell_type": "markdown",
      "metadata": {
        "id": "view-in-github",
        "colab_type": "text"
      },
      "source": [
        "<a href=\"https://colab.research.google.com/github/mviloro/Exercicios_Codigo_brazuca/blob/main/Exerc%C3%ADcios_de_L%C3%B3gica_de_Programa%C3%A7%C3%A3o_com_PYTHON_C%C3%B3digo_Brazuca.ipynb\" target=\"_parent\"><img src=\"https://colab.research.google.com/assets/colab-badge.svg\" alt=\"Open In Colab\"/></a>"
      ]
    },
    {
      "cell_type": "markdown",
      "source": [
        "ATIVIDADE 1"
      ],
      "metadata": {
        "id": "_UGQLDHDQPHI"
      }
    },
    {
      "cell_type": "code",
      "execution_count": null,
      "metadata": {
        "colab": {
          "base_uri": "https://localhost:8080/"
        },
        "id": "s08crlvCKU_u",
        "outputId": "6a079be5-0284-47a4-8413-7fbf07d84f66"
      },
      "outputs": [
        {
          "output_type": "stream",
          "name": "stdout",
          "text": [
            "Meu nome é: Marcos\n",
            "Minha cidade natal é: Parambu\n"
          ]
        }
      ],
      "source": [
        "print(\"Meu nome é: Marcos\")\n",
        "print(\"Minha cidade natal é: Parambu\")"
      ]
    },
    {
      "cell_type": "markdown",
      "source": [
        "ATIVIDADE 2"
      ],
      "metadata": {
        "id": "1lzxqahvQTyY"
      }
    },
    {
      "cell_type": "code",
      "source": [
        "nomefilme = input(\"Qual seu filme favorito? \")\n",
        "anodelan = input(\"Qual foi o ano de lançamento dele? \")\n",
        "print(\"O nome do meu filme favorito é: \" + nomefilme + \" Ele foi lançado em: \" + anodelan)"
      ],
      "metadata": {
        "id": "KuIhaE5oP8CP",
        "colab": {
          "base_uri": "https://localhost:8080/"
        },
        "outputId": "a3abe535-ceb4-46f5-b190-9fd186eb3d24"
      },
      "execution_count": null,
      "outputs": [
        {
          "output_type": "stream",
          "name": "stdout",
          "text": [
            "Qual seu filme favorito? vingadores\n",
            "Qual foi o ano de lançamento dele? 2012\n",
            "O nome do meu filme favorito é: vingadores Ele foi lançado em: 2012\n"
          ]
        }
      ]
    },
    {
      "cell_type": "markdown",
      "source": [
        "ATIVIDADE 3"
      ],
      "metadata": {
        "id": "1EhaTugIVbE_"
      }
    },
    {
      "cell_type": "code",
      "source": [],
      "metadata": {
        "id": "59ucOLJuln5r"
      },
      "execution_count": null,
      "outputs": []
    },
    {
      "cell_type": "code",
      "source": [
        "n1 = int(input(\"digite um numero: \"))\n",
        "n2 = int(input(\"degite outro numero: \"))\n",
        "soma = n1 + n2\n",
        "sub = n1 - n2\n",
        "mult = n1 * n2\n",
        "div = n1 / n2\n",
        "print(\"A soma é:\",soma,\n",
        "      \"A subtração é:\",sub,\n",
        "      \"A multiplicação é:\",mult,\n",
        "      \"E a divisão é:\",div)"
      ],
      "metadata": {
        "colab": {
          "base_uri": "https://localhost:8080/"
        },
        "id": "7q0TClFGVaIH",
        "outputId": "3a22d782-5696-44a4-cbbc-9ab85cd6dcf9"
      },
      "execution_count": null,
      "outputs": [
        {
          "output_type": "stream",
          "name": "stdout",
          "text": [
            "digite um numero: 20\n",
            "degite outro numero: 30\n",
            "A soma é: 50 A subtração é: -10 A multiplicação é: 600 E a divisão é: 0.6666666666666666\n"
          ]
        }
      ]
    },
    {
      "cell_type": "markdown",
      "source": [
        "ATIVIDADE 4"
      ],
      "metadata": {
        "id": "V4f8YcNYcAEI"
      }
    },
    {
      "cell_type": "code",
      "source": [
        "tempatual = float(input(\"Qual a temperatura atual? \"))\n",
        "if tempatual < 15:\n",
        "    print(\"esta frio\")\n",
        "elif tempatual >= 15 and tempatual <= 30:\n",
        "    print(\"esta agradavel\")\n",
        "else:\n",
        "    print(\"esta fritando\")"
      ],
      "metadata": {
        "id": "WnLyNQsib93Y"
      },
      "execution_count": null,
      "outputs": []
    },
    {
      "cell_type": "markdown",
      "source": [
        "ATIVIDADE 5"
      ],
      "metadata": {
        "id": "fipvq8p0kzoo"
      }
    },
    {
      "cell_type": "code",
      "source": [
        "for num1 in range(2,11):\n",
        "  if num1 %2==0:\n",
        "    print(num1)"
      ],
      "metadata": {
        "colab": {
          "base_uri": "https://localhost:8080/"
        },
        "id": "N8TPausrkzNR",
        "outputId": "e91a34a1-1f92-4aaa-bffe-7296830aa711"
      },
      "execution_count": null,
      "outputs": [
        {
          "output_type": "stream",
          "name": "stdout",
          "text": [
            "2\n",
            "4\n",
            "6\n",
            "8\n",
            "10\n"
          ]
        }
      ]
    },
    {
      "cell_type": "markdown",
      "source": [
        "ATIVIDADE 6"
      ],
      "metadata": {
        "id": "YqPohWMdqRu1"
      }
    },
    {
      "cell_type": "code",
      "source": [
        "soma = 0\n",
        "while True:\n",
        "  digi1 = int(input(\"digite um numero \"))\n",
        "\n",
        "  if digi1 == 0:\n",
        "    break\n",
        "  soma += digi1\n",
        "print(\"a soma total dos numeros é: \",soma)"
      ],
      "metadata": {
        "colab": {
          "base_uri": "https://localhost:8080/"
        },
        "id": "Gw6LOemG6lHr",
        "outputId": "de8809ac-3dd3-4465-84d8-4a0fd77b0bc3"
      },
      "execution_count": null,
      "outputs": [
        {
          "output_type": "stream",
          "name": "stdout",
          "text": [
            "digite um numero 5\n",
            "digite um numero 9\n",
            "digite um numero 3\n",
            "digite um numero 0\n",
            "a soma total dos numeros é:  17\n"
          ]
        }
      ]
    },
    {
      "cell_type": "markdown",
      "source": [
        "ATIVIDADE 7"
      ],
      "metadata": {
        "id": "B0JY-cWepZ-W"
      }
    },
    {
      "cell_type": "code",
      "source": [
        "lista = []\n",
        "\n",
        "while True:\n",
        "  itens = input(\"adicione um item a lista (digite 's' para sair):\")\n",
        "  if itens.lower() == 's':\n",
        "    break\n",
        "  lista.append(itens)\n",
        "\n",
        "print(\"\\nLista de compras:\")\n",
        "for itens in lista:\n",
        "  print(\"->\" + itens)"
      ],
      "metadata": {
        "colab": {
          "base_uri": "https://localhost:8080/"
        },
        "id": "f3dONmlJAYJN",
        "outputId": "d0a0bcd5-2619-4fb3-af91-7aa123b840c4"
      },
      "execution_count": null,
      "outputs": [
        {
          "output_type": "stream",
          "name": "stdout",
          "text": [
            "adicione um item a lista (digite 's' para sair):caderno\n",
            "adicione um item a lista (digite 's' para sair):coxa de frango\n",
            "adicione um item a lista (digite 's' para sair):cerveja\n",
            "adicione um item a lista (digite 's' para sair):tv de 85 polegadas\n",
            "adicione um item a lista (digite 's' para sair):s\n",
            "\n",
            "Lista de compras:\n",
            "->caderno\n",
            "->coxa de frango\n",
            "->cerveja\n",
            "->tv de 85 polegadas\n"
          ]
        }
      ]
    },
    {
      "cell_type": "markdown",
      "source": [
        "ATIVIDADE 8"
      ],
      "metadata": {
        "id": "Uhkp-ZsuFKfN"
      }
    },
    {
      "cell_type": "code",
      "source": [
        "def nparnimp(num1):\n",
        "  if num1 % 2 == 0:\n",
        "    return \"O numero e par\"\n",
        "  else:\n",
        "    return \"o numero e impar\"\n",
        "\n",
        "num1 = int(input(\"digite um numero para verificar:\"))\n",
        "verif1 = nparnimp(num1)\n",
        "print(verif1)\n"
      ],
      "metadata": {
        "colab": {
          "base_uri": "https://localhost:8080/"
        },
        "id": "nhbOd9tJFJ3v",
        "outputId": "45fde85d-44ba-4fa8-d3ef-a26ee2df2e22"
      },
      "execution_count": null,
      "outputs": [
        {
          "output_type": "stream",
          "name": "stdout",
          "text": [
            "digite um numero para verificar:7\n",
            "o numero e impar\n"
          ]
        }
      ]
    },
    {
      "cell_type": "markdown",
      "source": [
        "ATIVIDADE 9"
      ],
      "metadata": {
        "id": "0RK8kmanLUPc"
      }
    },
    {
      "cell_type": "code",
      "source": [
        "def contarl(frase,letra):\n",
        "  return frase.lower().count(letra.lower())\n",
        "\n",
        "frase = input(\"Digite uma frase: \")\n",
        "letra = input(\"Escolha uma letra a ser contada: \")\n",
        "\n",
        "result = contarl(frase,letra)\n",
        "print(f\"a letra '{letra}' aparece {result} vezes na frase.\")"
      ],
      "metadata": {
        "colab": {
          "base_uri": "https://localhost:8080/"
        },
        "id": "k4TfSatPLYWt",
        "outputId": "280bbad9-cb30-4382-de33-06f2817a2278"
      },
      "execution_count": null,
      "outputs": [
        {
          "output_type": "stream",
          "name": "stdout",
          "text": [
            "Digite uma frase: estou tentando programar\n",
            "Escolha uma letra a ser contada: a\n",
            "a letra 'a' aparece 3 vezes na frase.\n"
          ]
        }
      ]
    },
    {
      "cell_type": "markdown",
      "source": [
        "ATIVIDADE 10"
      ],
      "metadata": {
        "id": "6F60E2BvQOFA"
      }
    },
    {
      "cell_type": "code",
      "source": [
        "def nprimo(num1):\n",
        "  if num1 <= 1:\n",
        "    return False\n",
        "  for n in range(2,int(num1**0.5)+1):\n",
        "    if num1 % n ==0:\n",
        "      return False\n",
        "    return True\n",
        "\n",
        "def encprimo(inicio,fim):\n",
        "  print(\"numeros primos entre\",inicio,\"e\",fim,\":\")\n",
        "  for num1 in range(inicio,fim + 1):\n",
        "    if nprimo(num1):\n",
        "      print(num1)\n",
        "\n",
        "inicio = int(input(\"digite o inicio do intervado:\"))\n",
        "fim = int(input(\"digite o fim do intervalo:\"))\n",
        "\n",
        "encprimo(inicio,fim)"
      ],
      "metadata": {
        "colab": {
          "base_uri": "https://localhost:8080/"
        },
        "id": "09EL7ce3QNoQ",
        "outputId": "69c5c34b-8508-4cea-ddf8-d7bccd5a3f64"
      },
      "execution_count": null,
      "outputs": [
        {
          "output_type": "stream",
          "name": "stdout",
          "text": [
            "digite o inicio do intervado:1\n",
            "digite o fim do intervalo:30\n",
            "numeros primos entre 1 e 30 :\n",
            "5\n",
            "7\n",
            "9\n",
            "11\n",
            "13\n",
            "15\n",
            "17\n",
            "19\n",
            "21\n",
            "23\n",
            "25\n",
            "27\n",
            "29\n"
          ]
        }
      ]
    }
  ]
}